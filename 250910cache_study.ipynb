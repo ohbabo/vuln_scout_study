{
 "cells": [
  {
   "cell_type": "code",
   "id": "initial_id",
   "metadata": {
    "collapsed": true,
    "ExecuteTime": {
     "end_time": "2025-09-10T04:28:46.555115Z",
     "start_time": "2025-09-10T04:28:46.551954Z"
    }
   },
   "source": [
    "#TTL 기반 캐쉬 구현\n",
    "import json,time,hashlib,re\n",
    "from pathlib import Path\n",
    "from typing import Any,Optional\n"
   ],
   "outputs": [],
   "execution_count": 1
  },
  {
   "metadata": {
    "ExecuteTime": {
     "end_time": "2025-09-10T04:52:34.309051Z",
     "start_time": "2025-09-10T04:52:34.305422Z"
    }
   },
   "cell_type": "code",
   "source": [
    "#캐시 디렉터리 TTL설정\n",
    "\n",
    "#CACHE_DIR = Path(\"test/cache\")\n",
    "#CACHE_DIR.mkdir(parents=True,exist_ok=True)\n",
    "CACHE : dict[str,dict]={}\n",
    "DEFAULT_TTL  = 60 * 30"
   ],
   "id": "fdbb704e77419d1",
   "outputs": [],
   "execution_count": 3
  },
  {
   "metadata": {
    "ExecuteTime": {
     "end_time": "2025-09-10T04:55:14.641328Z",
     "start_time": "2025-09-10T04:55:14.637339Z"
    }
   },
   "cell_type": "code",
   "source": [
    "_now = time.time\n",
    "\n",
    "def _expired(saved_at:float,ttl:int)->bool: #_expired 만료됨\n",
    "\n",
    "    return _now() -saved_at >= ttl  # ttl보다 더크면 만료상태\n"
   ],
   "id": "b3eb02bd99846c9c",
   "outputs": [],
   "execution_count": 4
  },
  {
   "metadata": {
    "ExecuteTime": {
     "end_time": "2025-09-10T05:07:00.282167Z",
     "start_time": "2025-09-10T05:07:00.277668Z"
    }
   },
   "cell_type": "code",
   "source": [
    "def saved_cache(key:str, value: Any,ttl:int =DEFAULT_TTL)->None:\n",
    "    CACHE[key] = {\"saved_at\": _now(),\"ttl\":ttl, \"value\":value}\n",
    "    #ttl넣는 이유 향후 데이터 캐쉬마다 살아있는 시간 조절하기 위해\n",
    "\n"
   ],
   "id": "18d7780648292108",
   "outputs": [],
   "execution_count": 5
  },
  {
   "metadata": {
    "ExecuteTime": {
     "end_time": "2025-09-10T05:14:48.259325Z",
     "start_time": "2025-09-10T05:14:48.255920Z"
    }
   },
   "cell_type": "code",
   "source": [
    "def load_cache(key:str)->Optional[Any]:\n",
    "\n",
    "    item = CACHE.get(key)\n",
    "\n",
    "    if not item:\n",
    "        return None\n",
    "\n",
    "    if _expired(item.get(\"saved_at\"),item.get(\"ttl\")): #True면 만료상태\n",
    "        return None\n",
    "\n",
    "    return item[\"value\"]"
   ],
   "id": "eaef69cbf7bb46f4",
   "outputs": [],
   "execution_count": 7
  },
  {
   "metadata": {},
   "cell_type": "code",
   "outputs": [],
   "execution_count": null,
   "source": "def get_cache(key:)",
   "id": "e4744859a88a86a9"
  }
 ],
 "metadata": {
  "kernelspec": {
   "display_name": "Python 3",
   "language": "python",
   "name": "python3"
  },
  "language_info": {
   "codemirror_mode": {
    "name": "ipython",
    "version": 2
   },
   "file_extension": ".py",
   "mimetype": "text/x-python",
   "name": "python",
   "nbconvert_exporter": "python",
   "pygments_lexer": "ipython2",
   "version": "2.7.6"
  }
 },
 "nbformat": 4,
 "nbformat_minor": 5
}
