{
 "cells": [
  {
   "cell_type": "code",
   "id": "initial_id",
   "metadata": {
    "collapsed": true,
    "ExecuteTime": {
     "end_time": "2025-09-06T03:52:33.833667Z",
     "start_time": "2025-09-06T03:52:33.815651Z"
    }
   },
   "source": [
    "import json #json 직렬화\n",
    "import re # 정규표현식\n",
    "import subprocess #외부 명령 실행에 사용?\n",
    "from dis import disco\n",
    "from re import match\n",
    "\n"
   ],
   "outputs": [],
   "execution_count": 126
  },
  {
   "metadata": {
    "ExecuteTime": {
     "end_time": "2025-09-06T02:17:34.883660Z",
     "start_time": "2025-09-06T02:17:34.874653Z"
    }
   },
   "cell_type": "code",
   "source": [
    "from pathlib import Path #독립 경로 window,linux 호환좋음\n",
    "from typing import List,Set,Optional,Iterable # 예 list 타입 고정할때"
   ],
   "id": "ae5f7956bc40cc65",
   "outputs": [],
   "execution_count": 79
  },
  {
   "metadata": {
    "ExecuteTime": {
     "end_time": "2025-09-06T02:17:34.928702Z",
     "start_time": "2025-09-06T02:17:34.921695Z"
    }
   },
   "cell_type": "code",
   "source": [
    "#fallback 사용한다 가정\n",
    "\n",
    "try:\n",
    "    import requests\n",
    "except Exception:\n",
    "    requests = None"
   ],
   "id": "8834e6e6c1c3a5c7",
   "outputs": [],
   "execution_count": 80
  },
  {
   "metadata": {
    "ExecuteTime": {
     "end_time": "2025-09-06T03:59:11.175354Z",
     "start_time": "2025-09-06T03:59:11.162341Z"
    }
   },
   "cell_type": "code",
   "source": [
    "#파일 생성\n",
    "#raw 원본 그대로 저장\n",
    "#   /data/raw 랑 data/raw 차이점 : /시작 하지않으면  현재 디렉토리 기준 , /있으면  cwd 최상위 디렉토리\n",
    "ROW_DIR = Path(\"data/raw\") #현재디랙토리\n",
    "ROW_DIR.mkdir(parents=True,exist_ok=True)\n",
    "#parents = 해당 경로에 폴더가 없으면 폴더생성\n",
    "#exist_ok=True  해당 파일이 없으면 그냥 오류안내고 pass"
   ],
   "id": "af0ec82fcf77d2c8",
   "outputs": [],
   "execution_count": 131
  },
  {
   "metadata": {
    "ExecuteTime": {
     "end_time": "2025-09-06T02:17:35.018782Z",
     "start_time": "2025-09-06T02:17:35.002769Z"
    }
   },
   "cell_type": "code",
   "source": [
    "#subfinder툴 : 보안 해킹(정보수집) 오픈소스 도메인/서브도메인\n",
    "\n",
    "#해당 함수 목적 툴이 리눅스 안에  있는지?  //툴은 패키지가 아니다\n",
    "#해당 함수는 리눅스 쉘,터미널 기준\n",
    "def _which_(tool:str)-> bool: #tool타입은 왜 str 인가? 찾을때 이름 검색하는 생각\n",
    "    try: #쉘-유틸 약자\n",
    "        from shutil import which\n",
    "        return which(tool) is not None\n",
    "            #which 자체는 경로,none을 반환 하는데  (비교연산자 is not None)을 감싸서 True,False로 바뀜\n",
    "    except Exception:\n",
    "        return False\n",
    "    "
   ],
   "id": "1c8d88b999d261bb",
   "outputs": [],
   "execution_count": 82
  },
  {
   "metadata": {
    "ExecuteTime": {
     "end_time": "2025-09-06T02:17:35.124881Z",
     "start_time": "2025-09-06T02:17:35.103860Z"
    }
   },
   "cell_type": "code",
   "source": [
    "# cmd명령어 list[]로 받아 바이트->str 변환 입력\n",
    "    #-os 터미널에서 str을 바이트로 인코딩하여 실행이됨.\n",
    "    #파이썬에서 바이트 그냥 줘도 되지만 인코딩에서 error가 날수 있어서 str로 변환해서 보냄\n",
    "#발견한 서브도메인 목록을 줄 단위로 출력(stdout)  <-- cmd에서 출력된 모든 도메인 보여줌\n",
    "\n",
    "def _run(cmd : List[str],timeout=60) -> list[str]:\n",
    "    try:\n",
    "        out = subprocess.check_output(cmd,text=True,stderr=subprocess.DEVNULL,timeout=timeout)\n",
    "                                        #text=True str로 유지               \n",
    "        return [line.strip() for line in out.splitlines() if line.strip()]\n",
    "                                                            # if line.strip() 해당 라인을 양쪽 공백을 없애서 남으면 True,안남으면 False\n",
    "    except Exception:\n",
    "        return []\n"
   ],
   "id": "3cfa1f29b4174c4c",
   "outputs": [],
   "execution_count": 83
  },
  {
   "metadata": {
    "ExecuteTime": {
     "end_time": "2025-09-06T02:17:35.214961Z",
     "start_time": "2025-09-06T02:17:35.202950Z"
    }
   },
   "cell_type": "code",
   "source": [
    "#and보다 or이 먼저 계산됨\n",
    "#도메인 주소 타겟의 서브 도메인 주소 매칭\n",
    "def sub_domain_match(name:str,root:str) ->Optional[str]:\n",
    "    \n",
    "    n=name.lower() #소문자 변환\n",
    "    n1=n.lstrip('*.') #예상되는 서브도메인 좌측에 *와일드 . 제거\n",
    "    n2=n1.rstrip('.') # 예상되는 서브도메인 우측에 . 제거\n",
    "    \n",
    "    if not n2:\n",
    "        return None\n",
    "    \n",
    "    if not n2.endswith('.'+root):\n",
    "        if n2!=root:\n",
    "            return None\n",
    "        \n",
    "    \n",
    "    #불량문자 확인\n",
    "    if re.search(r\"[^a-z0-9-_.]\",n2):\n",
    "        n2 =re.sub(r\"[^a-z0-9-_.]\",\"\",n2)\n",
    "        \n",
    "    return n2 or None\n",
    "    "
   ],
   "id": "a825f7ebc360526d",
   "outputs": [],
   "execution_count": 84
  },
  {
   "metadata": {
    "ExecuteTime": {
     "end_time": "2025-09-06T02:17:35.320057Z",
     "start_time": "2025-09-06T02:17:35.304043Z"
    }
   },
   "cell_type": "code",
   "source": [
    "def de_dup(s:Iterable[str])->list[str]: #Iterable 범용 반복문 객체 set,list,파일\n",
    "                                        #for line in file 예  전부 사용가능\n",
    "\n",
    "    #s1= {line for line in s if line}   #중복제거  {}원래 key:value dic타입이나, value 없이 값만 오면 set타입이 된다.\n",
    "    s1 = set(s)\n",
    "    s2 = sorted(s1)   #sort 정렬 -ed 된\n",
    "    \n",
    "    return s2"
   ],
   "id": "cba8cc25c1083ab2",
   "outputs": [],
   "execution_count": 85
  },
  {
   "metadata": {
    "ExecuteTime": {
     "end_time": "2025-09-06T02:17:35.365097Z",
     "start_time": "2025-09-06T02:17:35.352085Z"
    }
   },
   "cell_type": "code",
   "source": "",
   "id": "c0c7ee1e23a0bb60",
   "outputs": [],
   "execution_count": null
  },
  {
   "metadata": {
    "ExecuteTime": {
     "end_time": "2025-09-06T03:32:56.297395Z",
     "start_time": "2025-09-06T03:32:56.277376Z"
    }
   },
   "cell_type": "code",
   "source": [
    "def save_raw(domain:str,tool:str,raw:Iterable[str]) -> Path:#raw 가공되지 않은 범용데이터 계속 최신으로 교체됨\n",
    "       \n",
    "    path = ROW_DIR/f\"{domain}_{tool}.json\"\n",
    "    \n",
    "    data = json.dumps(json.dumps(raw),indent=2,ensure_ascii=False)\n",
    "    path.write_text(data,encoding=\"utf-8\") #ident 들여쓰기 ,ensure 보장해라\n",
    "    #write_text 파일 생성및 덮어쓰기\n",
    "    return path\n"
   ],
   "id": "752fbac5a1563398",
   "outputs": [],
   "execution_count": 92
  },
  {
   "metadata": {
    "ExecuteTime": {
     "end_time": "2025-09-06T03:32:56.612528Z",
     "start_time": "2025-09-06T03:32:56.608525Z"
    }
   },
   "cell_type": "code",
   "source": [
    "def from_subfinder(domain:str)->list[str]:\n",
    "    \n",
    "    if not _which_(\"subfinder\"):\n",
    "        return None\n",
    "\n",
    "    return _run([\"subfinder\",\"-d\",domain,\"-silent\"])  #-d domain약자  , -silent 조용히"
   ],
   "id": "ee7ceeac259ca9c0",
   "outputs": [],
   "execution_count": 93
  },
  {
   "metadata": {
    "ExecuteTime": {
     "end_time": "2025-09-06T03:33:00.594536Z",
     "start_time": "2025-09-06T03:33:00.588532Z"
    }
   },
   "cell_type": "code",
   "source": [
    "def from_amass_passive(domain:str)->list[str]:\n",
    "    \n",
    "    if not _which_(\"amass\"):\n",
    "        return None\n",
    "    \n",
    "    return _run([\"amass\",\"enum\",\"-passive\",\"-d\",domain,\"-silent\"])\n",
    "                        #enum 서브도메인 검색\n",
    "                        #모드 -passive,-activte\n",
    "\n",
    "#amass enum -passive -d domain -silent\n",
    "#서버까지 도메인 주소 불러옴"
   ],
   "id": "2a9b41571df91ab0",
   "outputs": [],
   "execution_count": 94
  },
  {
   "metadata": {
    "ExecuteTime": {
     "end_time": "2025-09-06T03:44:09.042212Z",
     "start_time": "2025-09-06T03:44:09.025197Z"
    }
   },
   "cell_type": "code",
   "source": [
    "def from_crt(domain:str,timeout: int=15)->list[str]:\n",
    "    \n",
    "    if requests is None:\n",
    "        return None\n",
    "    try:\n",
    "        r = requests.get(\"https://crt.sh/\",params={\"q\":domain,\"output\":\"json\"},timeout=timeout)\n",
    "        r.raise_for_status() #응답이 실패상태인지 검사 get이 응답을 받았더라도 404,200 정상으로 반환하기 떄문\n",
    "                \n",
    "        #r이 request에서 객체가 안만들어 질때 예외\n",
    "        #r 객체가 만들어 졌지만 서버에서 404 객체가 만들어 질때 r.raise_for_staus()로 상태확인 해야함\n",
    "        \n",
    "        #raise_for_status는 None 또는 httperror 리턴\n",
    "        \n",
    "        rows = r.json()\n",
    "        names: list[str]=[]\n",
    "        \n",
    "        for row in rows:\n",
    "            cn = (row.get(\"common_name\") or \"\").strip()\n",
    "            nv = (row.get(\"name_value\")or \"\").strip()\n",
    "\n",
    "            \n",
    "            if cn:\n",
    "                names.append(cn)\n",
    "            \n",
    "            if nv:\n",
    "                names.extend([a for a in nv.split(\"\\n\") if a])\n",
    "            \n",
    "        return names\n",
    "    \n",
    "    except Exception:\n",
    "        return [] #이미 리턴값을 리스트 형태로 약속 했기 떄문"
   ],
   "id": "98389ddf10fadac3",
   "outputs": [],
   "execution_count": 120
  },
  {
   "metadata": {
    "ExecuteTime": {
     "end_time": "2025-09-06T03:46:22.391177Z",
     "start_time": "2025-09-06T03:46:22.378165Z"
    }
   },
   "cell_type": "code",
   "source": [
    "#오케스트레이션\n",
    "\n",
    "def discover(domain:str)->list[str]:\n",
    "    \n",
    "    \n",
    "    raw:list[str]=[]\n",
    "    \n",
    "    sf =  from_subfinder(domain)\n",
    "    if sf:\n",
    "        \n",
    "        save_raw(domain,\"subfinder\",sf)\n",
    "        raw.extend(sf)\n",
    "        \n",
    "    am= from_amass_passive(domain)\n",
    "    if am:\n",
    "        \n",
    "        save_raw(domain,\"amass\",am)\n",
    "        raw.extend(am)\n",
    "        \n",
    "    \n",
    "        \n",
    "    if not raw:\n",
    "        \n",
    "        ct =from_crt(domain)\n",
    "        if ct:\n",
    "            save_raw(domain,\"crt\",ct)\n",
    "            raw.extend(ct)\n",
    "    \n",
    "    \n",
    "    raw1_match = [sub_domain_match(name,domain) for name in raw if sub_domain_match(name,domain)]\n",
    "    raw_result = de_dup(raw1_match) \n",
    "    \n",
    "    \n",
    "    save_raw(domain,\"final_domain\",raw_result)\n",
    "    return  raw_result\n",
    "    \n",
    "    \n",
    "   "
   ],
   "id": "d0e407b94fa057be",
   "outputs": [],
   "execution_count": 123
  },
  {
   "metadata": {
    "ExecuteTime": {
     "end_time": "2025-09-06T03:47:44.630535Z",
     "start_time": "2025-09-06T03:47:40.148281Z"
    }
   },
   "cell_type": "code",
   "source": [
    "if __name__=='__main__':\n",
    "    target = \"tryhackme.com\"\n",
    "    \n",
    "    subs = discover(target)\n",
    "    print(f\"[subdomains] {target}: {len(subs)} found\")  #window 쥬피터 환경이라 웹 api crt밖에 작동안함\n",
    "    for s in subs[:]:\n",
    "        print(\" -\", s)"
   ],
   "id": "d464f2b17d21f05d",
   "outputs": [
    {
     "name": "stdout",
     "output_type": "stream",
     "text": [
      "[subdomains] tryhackme.com: 23 found\n",
      " - assets.tryhackme.com\n",
      " - auth.tryhackme.com\n",
      " - blog.tryhackme.com\n",
      " - business.tryhackme.com\n",
      " - cancel.tryhackme.com\n",
      " - careers.tryhackme.com\n",
      " - docs.tryhackme.com\n",
      " - guacaworker.tryhackme.com\n",
      " - help.tryhackme.com\n",
      " - insights-proxy-worker.tryhackme.com\n",
      " - lp.tryhackme.com\n",
      " - monitoring.tryhackme.com\n",
      " - newhelp.tryhackme.com\n",
      " - remote-eu-1.tryhackme.com\n",
      " - remote-us-west-1.tryhackme.com\n",
      " - remote.tryhackme.com\n",
      " - resources.tryhackme.com\n",
      " - reverse-proxy-eu-west-1.tryhackme.com\n",
      " - reverse-proxy-us-east-1.tryhackme.com\n",
      " - setup.auth.tryhackme.com\n",
      " - store.tryhackme.com\n",
      " - tryhackme.com\n",
      " - www.tryhackme.com\n"
     ]
    }
   ],
   "execution_count": 125
  },
  {
   "metadata": {
    "ExecuteTime": {
     "end_time": "2025-09-06T04:06:25.395578Z",
     "start_time": "2025-09-06T04:06:25.381567Z"
    }
   },
   "cell_type": "code",
   "source": [
    "import re\n",
    "try:\n",
    "    import requests\n",
    "except Exception:\n",
    "    requests = None\n",
    "import json\n",
    "from pathlib import Path\n",
    "from typing import Iterable,\n",
    "import subprocess\n"
   ],
   "id": "2a7729b5aa053672",
   "outputs": [],
   "execution_count": 133
  },
  {
   "metadata": {
    "ExecuteTime": {
     "end_time": "2025-09-06T10:30:03.690684Z",
     "start_time": "2025-09-06T10:30:03.670665Z"
    }
   },
   "cell_type": "code",
   "source": [
    "import re\n",
    "try:\n",
    "    import requests\n",
    "except Exception:\n",
    "    requests = None\n",
    "import json\n",
    "from pathlib import Path\n",
    "from typing import Iterable,Optional\n",
    "import subprocess\n",
    "\n",
    "class Sub_domain_search:\n",
    "    def __init__(self,domain:str):\n",
    "        self.ROW_DIR = Path(\"data/raw\")\n",
    "        self.ROW_DIR.mkdir(parents=True,exist_ok=True)\n",
    "        self.domain = domain\n",
    "        \n",
    "    def _which_(self,tool:str)->bool:\n",
    "        \n",
    "        try:\n",
    "            from shutil import which\n",
    "            return which(tool) is not None\n",
    "        \n",
    "        except Exception:\n",
    "            return False\n",
    "        \n",
    "    def _run_(self,cmd:list[str],timeout=60)->list[str]:\n",
    "        try:\n",
    "            out =subprocess.check_output(cmd,text=True,stderr=subprocess.DEVNULL,timeout=timeout)\n",
    "            return [line for line in out.splitlines() if line.strip()]\n",
    "        \n",
    "        except Exception:\n",
    "            return []\n",
    "            \n",
    "    def _domain_normalize_(self,subdomain:str)->Optional[str]:\n",
    "        \n",
    "        sub1=subdomain.lower().strip()\n",
    "        sub2=sub1.lstrip('*.')\n",
    "        sub2=sub2.rstrip('.')\n",
    "        \n",
    "        if not sub2:\n",
    "            return None\n",
    "        if  not (sub2==self.domain or sub2.endswith('.'+self.domain)):\n",
    "            \n",
    "            return None\n",
    "        \n",
    "        if re.search(r\"[^a-z0-9-_.]\",sub2): #True 이것 외에 문자가 있는 경우\n",
    "            sub2=re.sub(r\"[^a-z0-9-_.]\",\"\",sub2)\n",
    "        \n",
    "        \n",
    "        return  sub2 or None\n",
    "    \n",
    "    def _ddep_(self,data:Iterable[str])->list[str]:\n",
    "        data1= set(data)\n",
    "        data2=sorted(data1)\n",
    "        return data2\n",
    "    \n",
    "    def _save_raw_(self,tool:str,raw:Iterable[str])->Path:\n",
    "        try:\n",
    "            path = self.ROW_DIR/f\"{self.domain}_{tool}.json\"\n",
    "            data = json.dumps(list(raw),indent=2,ensure_ascii=False)\n",
    "            path.write_text(data,encoding=\"utf-8\")\n",
    "        \n",
    "        except Exception:\n",
    "            return None\n",
    "\n",
    "        return path\n",
    "    \n",
    "    def from_subfinder(self)->list[str]:\n",
    "        \n",
    "        if not self._which_(\"subfinder\"):\n",
    "            return []\n",
    "        \n",
    "        raw =  self._run_([\"subfinder\",\"-d\",self.domain,\"-silent\"])\n",
    "        return raw\n",
    "    \n",
    "    def from_amass_passive(self)->list[str] :\n",
    "        \n",
    "        if not self._which_(\"amass\"):\n",
    "           return []\n",
    "        \n",
    "        raw = self._run_([\"amass\",\"enum\",\"-passive\",\"-d\",self.domain,\"-silent\"])\n",
    "        return raw\n",
    "    \n",
    "    def from_crt(self)->list[str]:\n",
    "        \n",
    "        try:\n",
    "            r=requests.get(\"https://crt.sh/\",params={\"q\":self.domain,\"output\":\"json\"},timeout=60)\n",
    "            r.raise_for_status()\n",
    "            \n",
    "            data = r.json()\n",
    "            names: list[str]=[]\n",
    "            \n",
    "            for line in data:\n",
    "                cn =(line.get(\"common_name\") or \"\").strip()\n",
    "                nv = (line.get(\"name_value\") or \"\").strip()\n",
    "                \n",
    "                if cn:\n",
    "                    names.append(cn)\n",
    "            \n",
    "                if nv:\n",
    "                    names.extend([line for line in nv.split(\"\\n\") if line])\n",
    "            \n",
    "            return names\n",
    "        \n",
    "        except Exception:\n",
    "            return []\n",
    "        \n",
    "        \n",
    "        \n",
    "     \n",
    "    def discover(self)->list[str]:\n",
    "         \n",
    "        raw:list[str]=[]\n",
    "        sf = self.from_subfinder()\n",
    "         \n",
    "        if sf:\n",
    "            self._save_raw_(\"subfinder\",sf)\n",
    "            raw.extend(sf)\n",
    "        \n",
    "        am = self.from_amass_passive()\n",
    "        if am:\n",
    "            self._save_raw_(\"amass\",am)\n",
    "            raw.extend(am)\n",
    "            \n",
    "        if not raw:\n",
    "            \n",
    "            ct =self.from_crt()\n",
    "            if ct:\n",
    "                self._save_raw_(\"crt\",ct)\n",
    "                raw.extend(ct)\n",
    "                \n",
    "    \n",
    "    \n",
    "        match= (self._domain_normalize_(ra) for ra in raw)\n",
    "        result = self._ddep_(ma for ma in match if ma)\n",
    "        self._save_raw_(\"final_domain\",result)\n",
    "        \n",
    "        return result\n",
    "    \n",
    "    def __call__(self):\n",
    "    \n",
    "        return self.discover()\n",
    "        \n",
    "        \n",
    "         "
   ],
   "id": "317a3b408f3c0b5a",
   "outputs": [],
   "execution_count": 196
  },
  {
   "metadata": {
    "ExecuteTime": {
     "end_time": "2025-09-06T10:30:09.203540Z",
     "start_time": "2025-09-06T10:30:04.155636Z"
    }
   },
   "cell_type": "code",
   "source": [
    "target = \"tryhackme.com\"\n",
    "\n",
    "s=Sub_domain_search(target)\n",
    "subs= s()                # __call__ → discover() 실행\n",
    "print(f\"[subdomains] {target}: {len(subs)} found\")\n",
    "for su in subs[:20]:\n",
    "    print(\" -\", su)"
   ],
   "id": "830a31ec23307dc2",
   "outputs": [
    {
     "name": "stdout",
     "output_type": "stream",
     "text": [
      "[subdomains] tryhackme.com: 23 found\n",
      " - assets.tryhackme.com\n",
      " - auth.tryhackme.com\n",
      " - blog.tryhackme.com\n",
      " - business.tryhackme.com\n",
      " - cancel.tryhackme.com\n",
      " - careers.tryhackme.com\n",
      " - docs.tryhackme.com\n",
      " - guacaworker.tryhackme.com\n",
      " - help.tryhackme.com\n",
      " - insights-proxy-worker.tryhackme.com\n",
      " - lp.tryhackme.com\n",
      " - monitoring.tryhackme.com\n",
      " - newhelp.tryhackme.com\n",
      " - remote-eu-1.tryhackme.com\n",
      " - remote-us-west-1.tryhackme.com\n",
      " - remote.tryhackme.com\n",
      " - resources.tryhackme.com\n",
      " - reverse-proxy-eu-west-1.tryhackme.com\n",
      " - reverse-proxy-us-east-1.tryhackme.com\n",
      " - setup.auth.tryhackme.com\n"
     ]
    }
   ],
   "execution_count": 197
  },
  {
   "metadata": {},
   "cell_type": "code",
   "outputs": [],
   "execution_count": null,
   "source": "",
   "id": "3536e76192bffad1"
  },
  {
   "metadata": {},
   "cell_type": "code",
   "outputs": [],
   "execution_count": null,
   "source": "",
   "id": "acade5bceb7f479"
  },
  {
   "metadata": {},
   "cell_type": "code",
   "outputs": [],
   "execution_count": null,
   "source": "",
   "id": "58283e0f9d970d8d"
  },
  {
   "metadata": {},
   "cell_type": "code",
   "outputs": [],
   "execution_count": null,
   "source": "",
   "id": "5a67ca4f9a3552a1"
  },
  {
   "metadata": {},
   "cell_type": "code",
   "outputs": [],
   "execution_count": null,
   "source": "",
   "id": "9bf9fc2f89dcd073"
  }
 ],
 "metadata": {
  "kernelspec": {
   "display_name": "Python 3",
   "language": "python",
   "name": "python3"
  },
  "language_info": {
   "codemirror_mode": {
    "name": "ipython",
    "version": 2
   },
   "file_extension": ".py",
   "mimetype": "text/x-python",
   "name": "python",
   "nbconvert_exporter": "python",
   "pygments_lexer": "ipython2",
   "version": "2.7.6"
  }
 },
 "nbformat": 4,
 "nbformat_minor": 5
}
